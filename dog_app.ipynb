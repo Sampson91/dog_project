{
 "cells": [
  {
   "cell_type": "markdown",
   "metadata": {},
   "source": [
    "# Artificial Intelligence Nanodegree\n",
    "\n",
    "## Convolutional Neural Networks\n",
    "\n",
    "## Project: Write an Algorithm for a Dog Identification App \n",
    "\n",
    "---\n",
    "\n",
    "In this notebook, some template code has already been provided for you, and you will need to implement additional functionality to successfully complete this project. You will not need to modify the included code beyond what is requested. Sections that begin with **'(IMPLEMENTATION)'** in the header indicate that the following block of code will require additional functionality which you must provide. Instructions will be provided for each section, and the specifics of the implementation are marked in the code block with a 'TODO' statement. Please be sure to read the instructions carefully! \n",
    "\n",
    "> **Note**: Once you have completed all of the code implementations, you need to finalize your work by exporting the iPython Notebook as an HTML document. Before exporting the notebook to html, all of the code cells need to have been run so that reviewers can see the final implementation and output. You can then export the notebook by using the menu above and navigating to  \\n\",\n",
    "    \"**File -> Download as -> HTML (.html)**. Include the finished document along with this notebook as your submission.\n",
    "\n",
    "In addition to implementing code, there will be questions that you must answer which relate to the project and your implementation. Each section where you will answer a question is preceded by a **'Question X'** header. Carefully read each question and provide thorough answers in the following text boxes that begin with **'Answer:'**. Your project submission will be evaluated based on your answers to each of the questions and the implementation you provide.\n",
    "\n",
    ">**Note:** Code and Markdown cells can be executed using the **Shift + Enter** keyboard shortcut.  Markdown cells can be edited by double-clicking the cell to enter edit mode.\n",
    "\n",
    "The rubric contains _optional_ \"Stand Out Suggestions\" for enhancing the project beyond the minimum requirements. If you decide to pursue the \"Stand Out Suggestions\", you should include the code in this IPython notebook.\n",
    "\n",
    "\n",
    "\n",
    "---\n",
    "### Why We're Here \n",
    "\n",
    "In this notebook, you will make the first steps towards developing an algorithm that could be used as part of a mobile or web app.  At the end of this project, your code will accept any user-supplied image as input.  If a dog is detected in the image, it will provide an estimate of the dog's breed.  If a human is detected, it will provide an estimate of the dog breed that is most resembling.  The image below displays potential sample output of your finished project (... but we expect that each student's algorithm will behave differently!). \n",
    "\n",
    "![Sample Dog Output](images/sample_dog_output.png)\n",
    "\n",
    "In this real-world setting, you will need to piece together a series of models to perform different tasks; for instance, the algorithm that detects humans in an image will be different from the CNN that infers dog breed.  There are many points of possible failure, and no perfect algorithm exists.  Your imperfect solution will nonetheless create a fun user experience!\n",
    "\n",
    "### The Road Ahead\n",
    "\n",
    "We break the notebook into separate steps.  Feel free to use the links below to navigate the notebook.\n",
    "\n",
    "* [Step 0](#step0): Import Datasets\n",
    "* [Step 1](#step1): Detect Humans\n",
    "* [Step 2](#step2): Detect Dogs\n",
    "* [Step 3](#step3): Create a CNN to Classify Dog Breeds (from Scratch)\n",
    "* [Step 4](#step4): Use a CNN to Classify Dog Breeds (using Transfer Learning)\n",
    "* [Step 5](#step5): Create a CNN to Classify Dog Breeds (using Transfer Learning)\n",
    "* [Step 6](#step6): Write your Algorithm\n",
    "* [Step 7](#step7): Test Your Algorithm\n",
    "\n",
    "---\n",
    "<a id='step0'></a>\n",
    "## Step 0: Import Datasets\n",
    "\n",
    "### Import Dog Dataset\n",
    "\n",
    "In the code cell below, we import a dataset of dog images.  We populate a few variables through the use of the `load_files` function from the scikit-learn library:\n",
    "- `train_files`, `valid_files`, `test_files` - numpy arrays containing file paths to images\n",
    "- `train_targets`, `valid_targets`, `test_targets` - numpy arrays containing onehot-encoded classification labels \n",
    "- `dog_names` - list of string-valued dog breed names for translating labels"
   ]
  },
  {
   "cell_type": "code",
   "execution_count": 1,
   "metadata": {},
   "outputs": [
    {
     "name": "stderr",
     "output_type": "stream",
     "text": [
      "Using TensorFlow backend.\n"
     ]
    },
    {
     "name": "stdout",
     "output_type": "stream",
     "text": [
      "There are 133 total dog categories.\n",
      "There are 8351 total dog images.\n",
      "\n",
      "There are 6680 training dog images.\n",
      "There are 835 validation dog images.\n",
      "There are 836 test dog images.\n"
     ]
    }
   ],
   "source": [
    "from sklearn.datasets import load_files       \n",
    "from keras.utils import np_utils\n",
    "import numpy as np\n",
    "from glob import glob\n",
    "\n",
    "# define function to load train, test, and validation datasets\n",
    "def load_dataset(path):\n",
    "    data = load_files(path)\n",
    "    dog_files = np.array(data['filenames'])\n",
    "    dog_targets = np_utils.to_categorical(np.array(data['target']), 133)\n",
    "    return dog_files, dog_targets\n",
    "\n",
    "# load train, test, and validation datasets\n",
    "train_files, train_targets = load_dataset('dogImages/train')\n",
    "valid_files, valid_targets = load_dataset('dogImages/valid')\n",
    "test_files, test_targets = load_dataset('dogImages/test')\n",
    "\n",
    "# load list of dog names\n",
    "dog_names = [item[20:-1] for item in sorted(glob(\"dogImages/train/*/\"))]\n",
    "\n",
    "# print statistics about the dataset\n",
    "print('There are %d total dog categories.' % len(dog_names))\n",
    "print('There are %s total dog images.\\n' % len(np.hstack([train_files, valid_files, test_files])))\n",
    "print('There are %d training dog images.' % len(train_files))\n",
    "print('There are %d validation dog images.' % len(valid_files))\n",
    "print('There are %d test dog images.'% len(test_files))"
   ]
  },
  {
   "cell_type": "code",
   "execution_count": 2,
   "metadata": {},
   "outputs": [
    {
     "data": {
      "text/plain": [
       "(6680, 6680)"
      ]
     },
     "execution_count": 2,
     "metadata": {},
     "output_type": "execute_result"
    }
   ],
   "source": [
    "len(train_files),len(train_targets)"
   ]
  },
  {
   "cell_type": "markdown",
   "metadata": {},
   "source": [
    "### Import Human Dataset\n",
    "\n",
    "In the code cell below, we import a dataset of human images, where the file paths are stored in the numpy array `human_files`."
   ]
  },
  {
   "cell_type": "code",
   "execution_count": 3,
   "metadata": {},
   "outputs": [
    {
     "name": "stdout",
     "output_type": "stream",
     "text": [
      "There are 13233 total human images.\n"
     ]
    }
   ],
   "source": [
    "import random\n",
    "random.seed(8675309)\n",
    "\n",
    "# load filenames in shuffled human dataset\n",
    "human_files = np.array(glob(\"./lfw/*/*\"))\n",
    "random.shuffle(human_files)\n",
    "\n",
    "# print statistics about the dataset\n",
    "print('There are %d total human images.' % len(human_files))"
   ]
  },
  {
   "cell_type": "code",
   "execution_count": 4,
   "metadata": {
    "collapsed": true
   },
   "outputs": [],
   "source": [
    "data = load_files('lfw')\n",
    "human_files = np.array(data['filenames'])\n",
    "h_name = [i.split('/')[1].split('_')[0] for i in human_files]\n",
    "a=data.target_names\n",
    "a = [i.split('_')[0] for i in a]\n",
    "b = np.unique(a)\n",
    "b = list(b)\n",
    "d = [b.index(i) for i in h_name]\n",
    "data['target'] = d\n",
    "human_targets = np_utils.to_categorical(np.array(data['target']), 2280)"
   ]
  },
  {
   "cell_type": "code",
   "execution_count": 10,
   "metadata": {},
   "outputs": [
    {
     "name": "stderr",
     "output_type": "stream",
     "text": [
      "100%|██████████| 13233/13233 [00:41<00:00, 321.64it/s]\n"
     ]
    }
   ],
   "source": [
    "human_train = paths_to_tensor(human_files).astype('float32')/255"
   ]
  },
  {
   "cell_type": "markdown",
   "metadata": {},
   "source": [
    "---\n",
    "<a id='step1'></a>\n",
    "## Step 1: Detect Humans\n",
    "\n",
    "We use OpenCV's implementation of [Haar feature-based cascade classifiers](http://docs.opencv.org/trunk/d7/d8b/tutorial_py_face_detection.html) to detect human faces in images.  OpenCV provides many pre-trained face detectors, stored as XML files on [github](https://github.com/opencv/opencv/tree/master/data/haarcascades).  We have downloaded one of these detectors and stored it in the `haarcascades` directory.\n",
    "\n",
    "In the next code cell, we demonstrate how to use this detector to find human faces in a sample image."
   ]
  },
  {
   "cell_type": "code",
   "execution_count": 23,
   "metadata": {},
   "outputs": [
    {
     "name": "stdout",
     "output_type": "stream",
     "text": [
      "Number of faces detected: 1\n"
     ]
    },
    {
     "data": {
      "image/png": "[encoded data removed]",
      "text/plain": [
       "<matplotlib.figure.Figure at 0x7f56782fb828>"
      ]
     },
     "metadata": {},
     "output_type": "display_data"
    }
   ],
   "source": [
    "import cv2                \n",
    "import matplotlib.pyplot as plt                        \n",
    "%matplotlib inline                               \n",
    "\n",
    "# extract pre-trained face detector\n",
    "face_cascade = cv2.CascadeClassifier('haarcascades/haarcascade_frontalface_alt.xml')\n",
    "\n",
    "# load color (BGR) image\n",
    "img = cv2.imread(human_files[3])\n",
    "# convert BGR image to grayscale\n",
    "gray = cv2.cvtColor(img, cv2.COLOR_BGR2GRAY)\n",
    "\n",
    "# find faces in image\n",
    "faces = face_cascade.detectMultiScale(gray)\n",
    "\n",
    "# print number of faces detected in the image\n",
    "print('Number of faces detected:', len(faces))\n",
    "\n",
    "# get bounding box for each detected face\n",
    "for (x,y,w,h) in faces:\n",
    "    # add bounding box to color image\n",
    "    cv2.rectangle(img,(x,y),(x+w,y+h),(255,0,0),2)\n",
    "    \n",
    "# convert BGR image to RGB for plotting\n",
    "cv_rgb = cv2.cvtColor(img, cv2.COLOR_BGR2RGB)\n",
    "\n",
    "# display the image, along with bounding box\n",
    "plt.imshow(cv_rgb)\n",
    "plt.show()"
   ]
  },
  {
   "cell_type": "markdown",
   "metadata": {},
   "source": [
    "Before using any of the face detectors, it is standard procedure to convert the images to grayscale.  The `detectMultiScale` function executes the classifier stored in `face_cascade` and takes the grayscale image as a parameter.  \n",
    "\n",
    "In the above code, `faces` is a numpy array of detected faces, where each row corresponds to a detected face.  Each detected face is a 1D array with four entries that specifies the bounding box of the detected face.  The first two entries in the array (extracted in the above code as `x` and `y`) specify the horizontal and vertical positions of the top left corner of the bounding box.  The last two entries in the array (extracted here as `w` and `h`) specify the width and height of the box.\n",
    "\n",
    "### Write a Human Face Detector\n",
    "\n",
    "We can use this procedure to write a function that returns `True` if a human face is detected in an image and `False` otherwise.  This function, aptly named `face_detector`, takes a string-valued file path to an image as input and appears in the code block below."
   ]
  },
  {
   "cell_type": "code",
   "execution_count": 24,
   "metadata": {
    "collapsed": true
   },
   "outputs": [],
   "source": [
    "# returns \"True\" if face is detected in image stored at img_path\n",
    "def face_detector(img_path):\n",
    "    img = cv2.imread(img_path)\n",
    "    gray = cv2.cvtColor(img, cv2.COLOR_BGR2GRAY)\n",
    "    faces = face_cascade.detectMultiScale(gray)\n",
    "    return len(faces) > 0"
   ]
  },
  {
   "cell_type": "markdown",
   "metadata": {},
   "source": [
    "### (IMPLEMENTATION) Assess the Human Face Detector\n",
    "\n",
    "__Question 1:__ Use the code cell below to test the performance of the `face_detector` function.  \n",
    "- What percentage of the first 100 images in `human_files` have a detected human face?  \n",
    "- What percentage of the first 100 images in `dog_files` have a detected human face? \n",
    "\n",
    "Ideally, we would like 100% of human images with a detected face and 0% of dog images with a detected face.  You will see that our algorithm falls short of this goal, but still gives acceptable performance.  We extract the file paths for the first 100 images from each of the datasets and store them in the numpy arrays `human_files_short` and `dog_files_short`.\n",
    "\n",
    "__Answer:__ "
   ]
  },
  {
   "cell_type": "code",
   "execution_count": 40,
   "metadata": {},
   "outputs": [],
   "source": [
    "human_files_short = human_files[:100]\n",
    "dog_files_short = train_files[:100]\n",
    "# Do NOT modify the code above this line.\n",
    "\n",
    "## TODO: Test the performance of the face_detector algorithm \n",
    "## on the images in human_files_short and dog_files_short.\n",
    "h=0\n",
    "u=0\n",
    "for i in human_files_short:\n",
    "    hu=face_detector(i)\n",
    "    if hu:\n",
    "        h +=1\n",
    "    else:\n",
    "        u +=1\n",
    "d = 0\n",
    "o = 0\n",
    "for i in dog_files_short:\n",
    "    hu=face_detector(i)\n",
    "    if hu:\n",
    "        d +=1\n",
    "    else:\n",
    "        o +=1"
   ]
  },
  {
   "cell_type": "code",
   "execution_count": 44,
   "metadata": {
    "scrolled": true
   },
   "outputs": [
    {
     "name": "stdout",
     "output_type": "stream",
     "text": [
      "100 images in human_files have 94% detected human face\n"
     ]
    }
   ],
   "source": [
    "print('100 images in human_files have {}% detected human face'.format(h))"
   ]
  },
  {
   "cell_type": "code",
   "execution_count": 45,
   "metadata": {},
   "outputs": [
    {
     "name": "stdout",
     "output_type": "stream",
     "text": [
      "100 images in dog_files have 11% detected human face\n"
     ]
    }
   ],
   "source": [
    "print('100 images in dog_files have {}% detected human face'.format(d))"
   ]
  },
  {
   "cell_type": "markdown",
   "metadata": {},
   "source": [
    "__Question 2:__ This algorithmic choice necessitates that we communicate to the user that we accept human images only when they provide a clear view of a face (otherwise, we risk having unneccessarily frustrated users!). In your opinion, is this a reasonable expectation to pose on the user? If not, can you think of a way to detect humans in images that does not necessitate an image with a clearly presented face?\n",
    "\n",
    "__Answer:__\n",
    "\n",
    "We suggest the face detector from OpenCV as a potential way to detect human images in your algorithm, but you are free to explore other approaches, especially approaches that make use of deep learning :).  Please use the code cell below to design and test your own face detection algorithm.  If you decide to pursue this _optional_ task, report performance on each of the datasets."
   ]
  },
  {
   "cell_type": "code",
   "execution_count": 46,
   "metadata": {
    "collapsed": true
   },
   "outputs": [],
   "source": [
    "from  sklearn.cross_validation import train_test_split\n",
    "train_X,test_X,train_y,test_t = train_test_split(human_train,human_targets,test_size= 0.3)"
   ]
  },
  {
   "cell_type": "code",
   "execution_count": 16,
   "metadata": {
    "collapsed": true
   },
   "outputs": [],
   "source": [
    "## (Optional) TODO: Report the performance of another  \n",
    "## face detection algorithm on the LFW dataset\n",
    "### Feel free to use as many code cells as needed."
   ]
  },
  {
   "cell_type": "code",
   "execution_count": 74,
   "metadata": {
    "scrolled": true
   },
   "outputs": [
    {
     "name": "stdout",
     "output_type": "stream",
     "text": [
      "_________________________________________________________________\n",
      "Layer (type)                 Output Shape              Param #   \n",
      "=================================================================\n",
      "conv2d_25 (Conv2D)           (None, 223, 223, 16)      208       \n",
      "_________________________________________________________________\n",
      "max_pooling2d_25 (MaxPooling (None, 111, 111, 16)      0         \n",
      "_________________________________________________________________\n",
      "activation_9 (Activation)    (None, 111, 111, 16)      0         \n",
      "_________________________________________________________________\n",
      "conv2d_26 (Conv2D)           (None, 110, 110, 32)      2080      \n",
      "_________________________________________________________________\n",
      "max_pooling2d_26 (MaxPooling (None, 55, 55, 32)        0         \n",
      "_________________________________________________________________\n",
      "conv2d_27 (Conv2D)           (None, 54, 54, 64)        8256      \n",
      "_________________________________________________________________\n",
      "max_pooling2d_27 (MaxPooling (None, 27, 27, 64)        0         \n",
      "_________________________________________________________________\n",
      "global_average_pooling2d_9 ( (None, 64)                0         \n",
      "_________________________________________________________________\n",
      "dense_9 (Dense)              (None, 2280)              148200    \n",
      "=================================================================\n",
      "Total params: 158,744\n",
      "Trainable params: 158,744\n",
      "Non-trainable params: 0\n",
      "_________________________________________________________________\n",
      "Train on 9263 samples, validate on 3970 samples\n",
      "Epoch 1/20\n",
      "9216/9263 [============================>.] - ETA: 0s - loss: 10.7293 - acc: 0.0224\n",
      "Epoch 00001: val_loss improved from inf to 10.27873, saving model to saved_models/weights.best.from_scratch.hdf5\n",
      "9263/9263 [==============================] - 139s 15ms/step - loss: 10.7276 - acc: 0.0222 - val_loss: 10.2787 - val_acc: 0.0247\n",
      "Epoch 2/20\n",
      "9216/9263 [============================>.] - ETA: 0s - loss: 10.8315 - acc: 0.0269\n",
      "Epoch 00002: val_loss did not improve\n",
      "9263/9263 [==============================] - 135s 15ms/step - loss: 10.8288 - acc: 0.0270 - val_loss: 11.0388 - val_acc: 0.0247\n",
      "Epoch 3/20\n",
      "9216/9263 [============================>.] - ETA: 0s - loss: 10.2593 - acc: 0.0270\n",
      "Epoch 00003: val_loss did not improve\n",
      "9263/9263 [==============================] - 99s 11ms/step - loss: 10.2633 - acc: 0.0270 - val_loss: 11.0235 - val_acc: 0.0247\n",
      "Epoch 4/20\n",
      "9216/9263 [============================>.] - ETA: 0s - loss: 10.6595 - acc: 0.0270\n",
      "Epoch 00004: val_loss did not improve\n",
      "9263/9263 [==============================] - 139s 15ms/step - loss: 10.6637 - acc: 0.0270 - val_loss: 10.9593 - val_acc: 0.0247\n",
      "Epoch 5/20\n",
      "9216/9263 [============================>.] - ETA: 0s - loss: 10.9150 - acc: 0.0271\n",
      "Epoch 00005: val_loss improved from 10.27873 to 9.81879, saving model to saved_models/weights.best.from_scratch.hdf5\n",
      "9263/9263 [==============================] - 132s 14ms/step - loss: 10.9042 - acc: 0.0270 - val_loss: 9.8188 - val_acc: 0.0247\n",
      "Epoch 6/20\n",
      "9216/9263 [============================>.] - ETA: 0s - loss: 10.2425 - acc: 0.0268\n",
      "Epoch 00006: val_loss did not improve\n",
      "9263/9263 [==============================] - 121s 13ms/step - loss: 10.2439 - acc: 0.0270 - val_loss: 10.0004 - val_acc: 0.0247\n",
      "Epoch 7/20\n",
      "9216/9263 [============================>.] - ETA: 0s - loss: 10.4842 - acc: 0.0270\n",
      "Epoch 00007: val_loss improved from 9.81879 to 9.63812, saving model to saved_models/weights.best.from_scratch.hdf5\n",
      "9263/9263 [==============================] - 128s 14ms/step - loss: 10.4854 - acc: 0.0270 - val_loss: 9.6381 - val_acc: 0.0247\n",
      "Epoch 8/20\n",
      "9216/9263 [============================>.] - ETA: 0s - loss: 10.0751 - acc: 0.0269\n",
      "Epoch 00008: val_loss improved from 9.63812 to 8.51263, saving model to saved_models/weights.best.from_scratch.hdf5\n",
      "9263/9263 [==============================] - 130s 14ms/step - loss: 10.0704 - acc: 0.0270 - val_loss: 8.5126 - val_acc: 0.0247\n",
      "Epoch 9/20\n",
      "9216/9263 [============================>.] - ETA: 0s - loss: 10.6202 - acc: 0.0271\n",
      "Epoch 00009: val_loss did not improve\n",
      "9263/9263 [==============================] - 127s 14ms/step - loss: 10.6125 - acc: 0.0270 - val_loss: 9.9659 - val_acc: 0.0247\n",
      "Epoch 10/20\n",
      "9216/9263 [============================>.] - ETA: 0s - loss: 10.1996 - acc: 0.0269\n",
      "Epoch 00010: val_loss did not improve\n",
      "9263/9263 [==============================] - 132s 14ms/step - loss: 10.1900 - acc: 0.0270 - val_loss: 9.4282 - val_acc: 0.0247\n",
      "Epoch 11/20\n",
      "9216/9263 [============================>.] - ETA: 0s - loss: 9.9459 - acc: 0.0271\n",
      "Epoch 00011: val_loss did not improve\n",
      "9263/9263 [==============================] - 128s 14ms/step - loss: 9.9475 - acc: 0.0270 - val_loss: 9.8796 - val_acc: 0.0247\n",
      "Epoch 12/20\n",
      "9216/9263 [============================>.] - ETA: 0s - loss: 10.1693 - acc: 0.0270\n",
      "Epoch 00012: val_loss did not improve\n",
      "9263/9263 [==============================] - 138s 15ms/step - loss: 10.1606 - acc: 0.0270 - val_loss: 10.9331 - val_acc: 0.0247\n",
      "Epoch 13/20\n",
      "9216/9263 [============================>.] - ETA: 0s - loss: 10.2564 - acc: 0.0270\n",
      "Epoch 00013: val_loss did not improve\n",
      "9263/9263 [==============================] - 139s 15ms/step - loss: 10.2540 - acc: 0.0270 - val_loss: 9.3945 - val_acc: 0.0247\n",
      "Epoch 14/20\n",
      "9216/9263 [============================>.] - ETA: 0s - loss: 10.0955 - acc: 0.0267\n",
      "Epoch 00014: val_loss did not improve\n",
      "9263/9263 [==============================] - 148s 16ms/step - loss: 10.1050 - acc: 0.0270 - val_loss: 10.8852 - val_acc: 0.0247\n",
      "Epoch 15/20\n",
      "9216/9263 [============================>.] - ETA: 0s - loss: 10.2868 - acc: 0.0270\n",
      "Epoch 00015: val_loss did not improve\n",
      "9263/9263 [==============================] - 132s 14ms/step - loss: 10.2779 - acc: 0.0270 - val_loss: 9.6536 - val_acc: 0.0247\n",
      "Epoch 16/20\n",
      "9216/9263 [============================>.] - ETA: 0s - loss: 10.0020 - acc: 0.0268\n",
      "Epoch 00016: val_loss did not improve\n",
      "9263/9263 [==============================] - 134s 14ms/step - loss: 9.9976 - acc: 0.0270 - val_loss: 9.5806 - val_acc: 0.0247\n",
      "Epoch 17/20\n",
      "9216/9263 [============================>.] - ETA: 0s - loss: 9.8465 - acc: 0.0269\n",
      "Epoch 00017: val_loss did not improve\n",
      "9263/9263 [==============================] - 138s 15ms/step - loss: 9.8398 - acc: 0.0270 - val_loss: 10.4553 - val_acc: 0.0247\n",
      "Epoch 18/20\n",
      "9216/9263 [============================>.] - ETA: 0s - loss: 10.2005 - acc: 0.0271\n",
      "Epoch 00018: val_loss did not improve\n",
      "9263/9263 [==============================] - 131s 14ms/step - loss: 10.2041 - acc: 0.0270 - val_loss: 9.8173 - val_acc: 0.0247\n",
      "Epoch 19/20\n",
      "9216/9263 [============================>.] - ETA: 0s - loss: 9.8285 - acc: 0.0269\n",
      "Epoch 00019: val_loss did not improve\n",
      "9263/9263 [==============================] - 135s 15ms/step - loss: 9.8183 - acc: 0.0270 - val_loss: 10.8458 - val_acc: 0.0247\n",
      "Epoch 20/20\n",
      "9216/9263 [============================>.] - ETA: 0s - loss: 10.4282 - acc: 0.0270\n",
      "Epoch 00020: val_loss did not improve\n",
      "9263/9263 [==============================] - 129s 14ms/step - loss: 10.4224 - acc: 0.0270 - val_loss: 9.7454 - val_acc: 0.0247\n"
     ]
    },
    {
     "data": {
      "text/plain": [
       "<keras.callbacks.History at 0x7f56ff35c6a0>"
      ]
     },
     "execution_count": 74,
     "metadata": {},
     "output_type": "execute_result"
    }
   ],
   "source": [
    "from keras.layers import Dropout, Flatten, Dense,Activation,GlobalAveragePooling2D,MaxPooling2D,Conv2D\n",
    "from keras.models import Sequential\n",
    "from keras.callbacks import ModelCheckpoint  \n",
    "model = Sequential()\n",
    "\n",
    "### TODO: Define your architecture.\n",
    "model.add(Conv2D(filters=16,kernel_size=(2,2),input_shape=train_X.shape[1:]))\n",
    "model.add(MaxPooling2D(pool_size=(2,2)))\n",
    "model.add(Activation('relu'))\n",
    "model.add(Conv2D(32,kernel_size=(2,2)))\n",
    "model.add(MaxPooling2D(pool_size=(2,2)))\n",
    "model.add(Conv2D(64,kernel_size=(2,2)))\n",
    "model.add(MaxPooling2D(pool_size=(2,2)))\n",
    "model.add(GlobalAveragePooling2D())\n",
    "model.add(Dense(test_t.shape[1]))\n",
    "model.summary()\n",
    "model.compile(optimizer='rmsprop', loss='categorical_crossentropy', metrics=['accuracy'])\n",
    "\n",
    "epochs = 20\n",
    "checkpointer = ModelCheckpoint(filepath='saved_models/weights.best.from_scratch.hdf5',verbose=1, save_best_only=True)\n",
    "model.fit(train_X, train_y,validation_data=(test_X, test_t),\n",
    "          epochs=epochs, batch_size=128, callbacks=[checkpointer], verbose=1)"
   ]
  },
  {
   "cell_type": "code",
   "execution_count": 84,
   "metadata": {},
   "outputs": [
    {
     "name": "stdout",
     "output_type": "stream",
     "text": [
      "Test accuracy: 2.4685%\n"
     ]
    }
   ],
   "source": [
    "# get index of predicted dog breed for each image in test set\n",
    "dog_breed_predictions = [np.argmax(model.predict(np.expand_dims(tensor, axis=0))) for tensor in test_X]\n",
    "\n",
    "# report test accuracy\n",
    "test_accuracy = 100*np.sum(np.array(dog_breed_predictions)==np.argmax(test_t, axis=1))/len(dog_breed_predictions)\n",
    "print('Test accuracy: %.4f%%' % test_accuracy)"
   ]
  },
  {
   "cell_type": "markdown",
   "metadata": {},
   "source": [
    "---\n",
    "<a id='step2'></a>\n",
    "## Step 2: Detect Dogs\n",
    "\n",
    "In this section, we use a pre-trained [ResNet-50](http://ethereon.github.io/netscope/#/gist/db945b393d40bfa26006) model to detect dogs in images.  Our first line of code downloads the ResNet-50 model, along with weights that have been trained on [ImageNet](http://www.image-net.org/), a very large, very popular dataset used for image classification and other vision tasks.  ImageNet contains over 10 million URLs, each linking to an image containing an object from one of [1000 categories](https://gist.github.com/yrevar/942d3a0ac09ec9e5eb3a).  Given an image, this pre-trained ResNet-50 model returns a prediction (derived from the available categories in ImageNet) for the object that is contained in the image."
   ]
  },
  {
   "cell_type": "code",
   "execution_count": 87,
   "metadata": {
    "collapsed": true
   },
   "outputs": [],
   "source": [
    "from keras.applications.resnet50 import ResNet50\n",
    "\n",
    "# define ResNet50 model\n",
    "ResNet50_model = ResNet50(weights='imagenet')"
   ]
  },
  {
   "cell_type": "markdown",
   "metadata": {},
   "source": [
    "### Pre-process the Data\n",
    "\n",
    "When using TensorFlow as backend, Keras CNNs require a 4D array (which we'll also refer to as a 4D tensor) as input, with shape\n",
    "\n",
    "$$\n",
    "(\\text{nb_samples}, \\text{rows}, \\text{columns}, \\text{channels}),\n",
    "$$\n",
    "\n",
    "where `nb_samples` corresponds to the total number of images (or samples), and `rows`, `columns`, and `channels` correspond to the number of rows, columns, and channels for each image, respectively.  \n",
    "\n",
    "The `path_to_tensor` function below takes a string-valued file path to a color image as input and returns a 4D tensor suitable for supplying to a Keras CNN.  The function first loads the image and resizes it to a square image that is $224 \\times 224$ pixels.  Next, the image is converted to an array, which is then resized to a 4D tensor.  In this case, since we are working with color images, each image has three channels.  Likewise, since we are processing a single image (or sample), the returned tensor will always have shape\n",
    "\n",
    "$$\n",
    "(1, 224, 224, 3).\n",
    "$$\n",
    "\n",
    "The `paths_to_tensor` function takes a numpy array of string-valued image paths as input and returns a 4D tensor with shape \n",
    "\n",
    "$$\n",
    "(\\text{nb_samples}, 224, 224, 3).\n",
    "$$\n",
    "\n",
    "Here, `nb_samples` is the number of samples, or number of images, in the supplied array of image paths.  It is best to think of `nb_samples` as the number of 3D tensors (where each 3D tensor corresponds to a different image) in your dataset!"
   ]
  },
  {
   "cell_type": "code",
   "execution_count": 88,
   "metadata": {
    "collapsed": true
   },
   "outputs": [],
   "source": [
    "from keras.preprocessing import image                  \n",
    "from tqdm import tqdm\n",
    "\n",
    "def path_to_tensor(img_path):\n",
    "    # loads RGB image as PIL.Image.Image type\n",
    "    img = image.load_img(img_path, target_size=(224, 224))\n",
    "    # convert PIL.Image.Image type to 3D tensor with shape (224, 224, 3)\n",
    "    x = image.img_to_array(img)\n",
    "    # convert 3D tensor to 4D tensor with shape (1, 224, 224, 3) and return 4D tensor\n",
    "    return np.expand_dims(x, axis=0)\n",
    "\n",
    "def paths_to_tensor(img_paths):\n",
    "    list_of_tensors = [path_to_tensor(img_path) for img_path in tqdm(img_paths)]\n",
    "    return np.vstack(list_of_tensors)"
   ]
  },
  {
   "cell_type": "markdown",
   "metadata": {},
   "source": [
    "### Making Predictions with ResNet-50\n",
    "\n",
    "Getting the 4D tensor ready for ResNet-50, and for any other pre-trained model in Keras, requires some additional processing.  First, the RGB image is converted to BGR by reordering the channels.  All pre-trained models have the additional normalization step that the mean pixel (expressed in RGB as $[103.939, 116.779, 123.68]$ and calculated from all pixels in all images in ImageNet) must be subtracted from every pixel in each image.  This is implemented in the imported function `preprocess_input`.  If you're curious, you can check the code for `preprocess_input` [here](https://github.com/fchollet/keras/blob/master/keras/applications/imagenet_utils.py).\n",
    "\n",
    "Now that we have a way to format our image for supplying to ResNet-50, we are now ready to use the model to extract the predictions.  This is accomplished with the `predict` method, which returns an array whose $i$-th entry is the model's predicted probability that the image belongs to the $i$-th ImageNet category.  This is implemented in the `ResNet50_predict_labels` function below.\n",
    "\n",
    "By taking the argmax of the predicted probability vector, we obtain an integer corresponding to the model's predicted object class, which we can identify with an object category through the use of this [dictionary](https://gist.github.com/yrevar/942d3a0ac09ec9e5eb3a). "
   ]
  },
  {
   "cell_type": "code",
   "execution_count": 89,
   "metadata": {
    "collapsed": true
   },
   "outputs": [],
   "source": [
    "from keras.applications.resnet50 import preprocess_input, decode_predictions\n",
    "\n",
    "def ResNet50_predict_labels(img_path):\n",
    "    # returns prediction vector for image located at img_path\n",
    "    img = preprocess_input(path_to_tensor(img_path))\n",
    "    return np.argmax(ResNet50_model.predict(img))"
   ]
  },
  {
   "cell_type": "markdown",
   "metadata": {},
   "source": [
    "### Write a Dog Detector\n",
    "\n",
    "While looking at the [dictionary](https://gist.github.com/yrevar/942d3a0ac09ec9e5eb3a), you will notice that the categories corresponding to dogs appear in an uninterrupted sequence and correspond to dictionary keys 151-268, inclusive, to include all categories from `'Chihuahua'` to `'Mexican hairless'`.  Thus, in order to check to see if an image is predicted to contain a dog by the pre-trained ResNet-50 model, we need only check if the `ResNet50_predict_labels` function above returns a value between 151 and 268 (inclusive).\n",
    "\n",
    "We use these ideas to complete the `dog_detector` function below, which returns `True` if a dog is detected in an image (and `False` if not)."
   ]
  },
  {
   "cell_type": "code",
   "execution_count": 90,
   "metadata": {
    "collapsed": true
   },
   "outputs": [],
   "source": [
    "### returns \"True\" if a dog is detected in the image stored at img_path\n",
    "def dog_detector(img_path):\n",
    "    prediction = ResNet50_predict_labels(img_path)\n",
    "    return ((prediction <= 268) & (prediction >= 151)) "
   ]
  },
  {
   "cell_type": "markdown",
   "metadata": {},
   "source": [
    "### (IMPLEMENTATION) Assess the Dog Detector\n",
    "\n",
    "__Question 3:__ Use the code cell below to test the performance of your `dog_detector` function.  \n",
    "- What percentage of the images in `human_files_short` have a detected dog?  \n",
    "- What percentage of the images in `dog_files_short` have a detected dog?\n",
    "\n",
    "__Answer:__ "
   ]
  },
  {
   "cell_type": "code",
   "execution_count": 91,
   "metadata": {
    "collapsed": true
   },
   "outputs": [],
   "source": [
    "### TODO: Test the performance of the dog_detector function\n",
    "### on the images in human_files_short and dog_files_short.\n",
    "h=0\n",
    "u=0\n",
    "for i in human_files_short:\n",
    "    hu=dog_detector(i)\n",
    "    if hu:\n",
    "        h +=1\n",
    "    else:\n",
    "        u +=1\n",
    "d = 0\n",
    "o = 0\n",
    "for i in dog_files_short:\n",
    "    hu=dog_detector(i)\n",
    "    if hu:\n",
    "        d +=1\n",
    "    else:\n",
    "        o +=1"
   ]
  },
  {
   "cell_type": "code",
   "execution_count": 92,
   "metadata": {},
   "outputs": [
    {
     "name": "stdout",
     "output_type": "stream",
     "text": [
      "images in human_files_short have 0% detected dog\n"
     ]
    }
   ],
   "source": [
    "print('images in human_files_short have {}% detected dog'.format(h))"
   ]
  },
  {
   "cell_type": "code",
   "execution_count": 93,
   "metadata": {},
   "outputs": [
    {
     "name": "stdout",
     "output_type": "stream",
     "text": [
      "images in dog_files_short have 100% detected dog\n"
     ]
    }
   ],
   "source": [
    "print('images in dog_files_short have {}% detected dog'.format(d))"
   ]
  },
  {
   "cell_type": "markdown",
   "metadata": {},
   "source": [
    "---\n",
    "<a id='step3'></a>\n",
    "## Step 3: Create a CNN to Classify Dog Breeds (from Scratch)\n",
    "\n",
    "Now that we have functions for detecting humans and dogs in images, we need a way to predict breed from images.  In this step, you will create a CNN that classifies dog breeds.  You must create your CNN _from scratch_ (so, you can't use transfer learning _yet_!), and you must attain a test accuracy of at least 1%.  In Step 5 of this notebook, you will have the opportunity to use transfer learning to create a CNN that attains greatly improved accuracy.\n",
    "\n",
    "Be careful with adding too many trainable layers!  More parameters means longer training, which means you are more likely to need a GPU to accelerate the training process.  Thankfully, Keras provides a handy estimate of the time that each epoch is likely to take; you can extrapolate this estimate to figure out how long it will take for your algorithm to train. \n",
    "\n",
    "We mention that the task of assigning breed to dogs from images is considered exceptionally challenging.  To see why, consider that *even a human* would have great difficulty in distinguishing between a Brittany and a Welsh Springer Spaniel.  \n",
    "\n",
    "Brittany | Welsh Springer Spaniel\n",
    "- | - \n",
    "<img src=\"images/Brittany_02625.jpg\" width=\"100\"> | <img src=\"images/Welsh_springer_spaniel_08203.jpg\" width=\"200\">\n",
    "\n",
    "It is not difficult to find other dog breed pairs with minimal inter-class variation (for instance, Curly-Coated Retrievers and American Water Spaniels).  \n",
    "\n",
    "Curly-Coated Retriever | American Water Spaniel\n",
    "- | -\n",
    "<img src=\"images/Curly-coated_retriever_03896.jpg\" width=\"200\"> | <img src=\"images/American_water_spaniel_00648.jpg\" width=\"200\">\n",
    "\n",
    "\n",
    "Likewise, recall that labradors come in yellow, chocolate, and black.  Your vision-based algorithm will have to conquer this high intra-class variation to determine how to classify all of these different shades as the same breed.  \n",
    "\n",
    "Yellow Labrador | Chocolate Labrador | Black Labrador\n",
    "- | -\n",
    "<img src=\"images/Labrador_retriever_06457.jpg\" width=\"150\"> | <img src=\"images/Labrador_retriever_06455.jpg\" width=\"240\"> | <img src=\"images/Labrador_retriever_06449.jpg\" width=\"220\">\n",
    "\n",
    "We also mention that random chance presents an exceptionally low bar: setting aside the fact that the classes are slightly imabalanced, a random guess will provide a correct answer roughly 1 in 133 times, which corresponds to an accuracy of less than 1%.  \n",
    "\n",
    "Remember that the practice is far ahead of the theory in deep learning.  Experiment with many different architectures, and trust your intuition.  And, of course, have fun! \n",
    "\n",
    "### Pre-process the Data\n",
    "\n",
    "We rescale the images by dividing every pixel in every image by 255."
   ]
  },
  {
   "cell_type": "code",
   "execution_count": 99,
   "metadata": {},
   "outputs": [
    {
     "name": "stderr",
     "output_type": "stream",
     "text": [
      "100%|██████████| 6680/6680 [01:52<00:00, 59.52it/s] \n",
      "100%|██████████| 835/835 [00:10<00:00, 80.20it/s]\n",
      "100%|██████████| 836/836 [00:05<00:00, 139.88it/s]\n"
     ]
    }
   ],
   "source": [
    "from PIL import ImageFile                            \n",
    "ImageFile.LOAD_TRUNCATED_IMAGES = True                 \n",
    "\n",
    "# pre-process the data for Keras\n",
    "train_tensors = paths_to_tensor(train_files).astype('float32')/255\n",
    "valid_tensors = paths_to_tensor(valid_files).astype('float32')/255\n",
    "test_tensors = paths_to_tensor(test_files).astype('float32')/255"
   ]
  },
  {
   "cell_type": "code",
   "execution_count": 104,
   "metadata": {},
   "outputs": [
    {
     "data": {
      "text/plain": [
       "(6680, 224, 224, 3)"
      ]
     },
     "execution_count": 104,
     "metadata": {},
     "output_type": "execute_result"
    }
   ],
   "source": [
    "train_tensors.shape"
   ]
  },
  {
   "cell_type": "markdown",
   "metadata": {},
   "source": [
    "### (IMPLEMENTATION) Model Architecture\n",
    "\n",
    "Create a CNN to classify dog breed.  At the end of your code cell block, summarize the layers of your model by executing the line:\n",
    "    \n",
    "        model.summary()\n",
    "\n",
    "We have imported some Python modules to get you started, but feel free to import as many modules as you need.  If you end up getting stuck, here's a hint that specifies a model that trains relatively fast on CPU and attains >1% test accuracy in 5 epochs:\n",
    "\n",
    "![Sample CNN](images/sample_cnn.png)\n",
    "           \n",
    "__Question 4:__ Outline the steps you took to get to your final CNN architecture and your reasoning at each step.  If you chose to use the hinted architecture above, describe why you think that CNN architecture should work well for the image classification task.\n",
    "\n",
    "__Answer:__  Invisual object recognition,CNN often excel.Unlike path based methods they preserve the input`s neighborhood relations and spatial loclity intheir latent higher-level feature representations.While the common fully conected deeop architectures do not scale well to realistic-sized hight-dimensional images in terms of computational complexity,CNN do since the number of free parameters describing their shared weights does not depend on the input dimensionality."
   ]
  },
  {
   "cell_type": "code",
   "execution_count": 105,
   "metadata": {},
   "outputs": [
    {
     "name": "stdout",
     "output_type": "stream",
     "text": [
      "_________________________________________________________________\n",
      "Layer (type)                 Output Shape              Param #   \n",
      "=================================================================\n",
      "conv2d_34 (Conv2D)           (None, 223, 223, 16)      208       \n",
      "_________________________________________________________________\n",
      "max_pooling2d_41 (MaxPooling (None, 111, 111, 16)      0         \n",
      "_________________________________________________________________\n",
      "activation_355 (Activation)  (None, 111, 111, 16)      0         \n",
      "_________________________________________________________________\n",
      "conv2d_35 (Conv2D)           (None, 110, 110, 32)      2080      \n",
      "_________________________________________________________________\n",
      "max_pooling2d_42 (MaxPooling (None, 55, 55, 32)        0         \n",
      "_________________________________________________________________\n",
      "conv2d_36 (Conv2D)           (None, 54, 54, 64)        8256      \n",
      "_________________________________________________________________\n",
      "max_pooling2d_43 (MaxPooling (None, 27, 27, 64)        0         \n",
      "_________________________________________________________________\n",
      "global_average_pooling2d_12  (None, 64)                0         \n",
      "_________________________________________________________________\n",
      "dense_12 (Dense)             (None, 133)               8645      \n",
      "=================================================================\n",
      "Total params: 19,189\n",
      "Trainable params: 19,189\n",
      "Non-trainable params: 0\n",
      "_________________________________________________________________\n"
     ]
    }
   ],
   "source": [
    "## from keras.layers import Conv2D, MaxPooling2D, GlobalAveragePooling2D\n",
    "from keras.layers import Dropout, Flatten, Dense,Activation,GlobalAveragePooling2D,MaxPooling2D,Conv2D\n",
    "from keras.models import Sequential\n",
    "\n",
    "model = Sequential()\n",
    "\n",
    "### TODO: Define your architecture.\n",
    "model.add(Conv2D(filters=16,kernel_size=(2,2),input_shape=train_tensors.shape[1:]))\n",
    "model.add(MaxPooling2D(pool_size=(2,2)))\n",
    "model.add(Activation('relu'))\n",
    "model.add(Conv2D(32,kernel_size=(2,2)))\n",
    "model.add(MaxPooling2D(pool_size=(2,2)))\n",
    "model.add(Conv2D(64,kernel_size=(2,2)))\n",
    "model.add(MaxPooling2D(pool_size=(2,2)))\n",
    "model.add(GlobalAveragePooling2D())\n",
    "model.add(Dense(133))\n",
    "model.summary()"
   ]
  },
  {
   "cell_type": "markdown",
   "metadata": {},
   "source": [
    "### Compile the Model"
   ]
  },
  {
   "cell_type": "code",
   "execution_count": 106,
   "metadata": {
    "collapsed": true
   },
   "outputs": [],
   "source": [
    "model.compile(optimizer='rmsprop', loss='categorical_crossentropy', metrics=['accuracy'])"
   ]
  },
  {
   "cell_type": "markdown",
   "metadata": {},
   "source": [
    "### (IMPLEMENTATION) Train the Model\n",
    "\n",
    "Train your model in the code cell below.  Use model checkpointing to save the model that attains the best validation loss.\n",
    "\n",
    "You are welcome to [augment the training data](https://blog.keras.io/building-powerful-image-classification-models-using-very-little-data.html), but this is not a requirement. "
   ]
  },
  {
   "cell_type": "code",
   "execution_count": 108,
   "metadata": {
    "scrolled": true
   },
   "outputs": [
    {
     "name": "stdout",
     "output_type": "stream",
     "text": [
      "Train on 6680 samples, validate on 835 samples\n",
      "Epoch 1/20\n",
      "6660/6680 [============================>.] - ETA: 0s - loss: 8.2938 - acc: 0.0104\n",
      "Epoch 00001: val_loss improved from inf to 8.26173, saving model to saved_models/weights.best.from_scratch1.hdf5\n",
      "6680/6680 [==============================] - 28s 4ms/step - loss: 8.2955 - acc: 0.0103 - val_loss: 8.2617 - val_acc: 0.0108\n",
      "Epoch 2/20\n",
      "6660/6680 [============================>.] - ETA: 0s - loss: 8.2890 - acc: 0.0104\n",
      "Epoch 00002: val_loss did not improve\n",
      "6680/6680 [==============================] - 27s 4ms/step - loss: 8.2955 - acc: 0.0103 - val_loss: 8.2617 - val_acc: 0.0108\n",
      "Epoch 3/20\n",
      "6660/6680 [============================>.] - ETA: 0s - loss: 8.2890 - acc: 0.0104\n",
      "Epoch 00003: val_loss did not improve\n",
      "6680/6680 [==============================] - 27s 4ms/step - loss: 8.2955 - acc: 0.0103 - val_loss: 8.2617 - val_acc: 0.0108\n",
      "Epoch 4/20\n",
      "6660/6680 [============================>.] - ETA: 0s - loss: 8.2962 - acc: 0.0104\n",
      "Epoch 00004: val_loss did not improve\n",
      "6680/6680 [==============================] - 27s 4ms/step - loss: 8.2955 - acc: 0.0103 - val_loss: 8.2617 - val_acc: 0.0108\n",
      "Epoch 5/20\n",
      "6660/6680 [============================>.] - ETA: 0s - loss: 8.2890 - acc: 0.0104\n",
      "Epoch 00005: val_loss did not improve\n",
      "6680/6680 [==============================] - 27s 4ms/step - loss: 8.2955 - acc: 0.0103 - val_loss: 8.2617 - val_acc: 0.0108\n",
      "Epoch 6/20\n",
      "6660/6680 [============================>.] - ETA: 0s - loss: 8.2890 - acc: 0.0102\n",
      "Epoch 00006: val_loss did not improve\n",
      "6680/6680 [==============================] - 28s 4ms/step - loss: 8.2955 - acc: 0.0103 - val_loss: 8.2617 - val_acc: 0.0108\n",
      "Epoch 7/20\n",
      "6660/6680 [============================>.] - ETA: 0s - loss: 8.3035 - acc: 0.0104\n",
      "Epoch 00007: val_loss did not improve\n",
      "6680/6680 [==============================] - 28s 4ms/step - loss: 8.2955 - acc: 0.0103 - val_loss: 8.2617 - val_acc: 0.0108\n",
      "Epoch 8/20\n",
      "6660/6680 [============================>.] - ETA: 0s - loss: 8.2938 - acc: 0.0104\n",
      "Epoch 00008: val_loss did not improve\n",
      "6680/6680 [==============================] - 29s 4ms/step - loss: 8.2955 - acc: 0.0103 - val_loss: 8.2617 - val_acc: 0.0108\n",
      "Epoch 9/20\n",
      "6660/6680 [============================>.] - ETA: 0s - loss: 8.2962 - acc: 0.0104\n",
      "Epoch 00009: val_loss did not improve\n",
      "6680/6680 [==============================] - 30s 5ms/step - loss: 8.2955 - acc: 0.0103 - val_loss: 8.2617 - val_acc: 0.0108\n",
      "Epoch 10/20\n",
      "6660/6680 [============================>.] - ETA: 0s - loss: 8.2986 - acc: 0.0104\n",
      "Epoch 00010: val_loss did not improve\n",
      "6680/6680 [==============================] - 33s 5ms/step - loss: 8.2955 - acc: 0.0103 - val_loss: 8.2617 - val_acc: 0.0108\n",
      "Epoch 11/20\n",
      "6660/6680 [============================>.] - ETA: 0s - loss: 8.2962 - acc: 0.0104- ETA: 0s - loss: 8.2897 - acc\n",
      "Epoch 00011: val_loss did not improve\n",
      "6680/6680 [==============================] - 34s 5ms/step - loss: 8.2955 - acc: 0.0103 - val_loss: 8.2617 - val_acc: 0.0108\n",
      "Epoch 12/20\n",
      "6660/6680 [============================>.] - ETA: 0s - loss: 8.3035 - acc: 0.0104\n",
      "Epoch 00012: val_loss did not improve\n",
      "6680/6680 [==============================] - 32s 5ms/step - loss: 8.2955 - acc: 0.0103 - val_loss: 8.2617 - val_acc: 0.0108\n",
      "Epoch 13/20\n",
      "6660/6680 [============================>.] - ETA: 0s - loss: 8.2938 - acc: 0.0104\n",
      "Epoch 00013: val_loss did not improve\n",
      "6680/6680 [==============================] - 32s 5ms/step - loss: 8.2955 - acc: 0.0103 - val_loss: 8.2617 - val_acc: 0.0108\n",
      "Epoch 14/20\n",
      "6660/6680 [============================>.] - ETA: 0s - loss: 8.2865 - acc: 0.0104\n",
      "Epoch 00014: val_loss did not improve\n",
      "6680/6680 [==============================] - 32s 5ms/step - loss: 8.2955 - acc: 0.0103 - val_loss: 8.2617 - val_acc: 0.0108\n",
      "Epoch 15/20\n",
      "6660/6680 [============================>.] - ETA: 0s - loss: 8.3083 - acc: 0.0102\n",
      "Epoch 00015: val_loss did not improve\n",
      "6680/6680 [==============================] - 34s 5ms/step - loss: 8.2955 - acc: 0.0103 - val_loss: 8.2617 - val_acc: 0.0108\n",
      "Epoch 16/20\n",
      "6660/6680 [============================>.] - ETA: 0s - loss: 8.2914 - acc: 0.0104\n",
      "Epoch 00016: val_loss did not improve\n",
      "6680/6680 [==============================] - 35s 5ms/step - loss: 8.2955 - acc: 0.0103 - val_loss: 8.2617 - val_acc: 0.0108\n",
      "Epoch 17/20\n",
      "6660/6680 [============================>.] - ETA: 0s - loss: 8.2986 - acc: 0.0104\n",
      "Epoch 00017: val_loss did not improve\n",
      "6680/6680 [==============================] - 37s 6ms/step - loss: 8.2955 - acc: 0.0103 - val_loss: 8.2617 - val_acc: 0.0108\n",
      "Epoch 18/20\n",
      "6660/6680 [============================>.] - ETA: 0s - loss: 8.2986 - acc: 0.0101\n",
      "Epoch 00018: val_loss did not improve\n",
      "6680/6680 [==============================] - 35s 5ms/step - loss: 8.2955 - acc: 0.0103 - val_loss: 8.2617 - val_acc: 0.0108\n",
      "Epoch 19/20\n",
      "6660/6680 [============================>.] - ETA: 0s - loss: 8.3035 - acc: 0.0104\n",
      "Epoch 00019: val_loss did not improve\n",
      "6680/6680 [==============================] - 38s 6ms/step - loss: 8.2955 - acc: 0.0103 - val_loss: 8.2617 - val_acc: 0.0108\n",
      "Epoch 20/20\n",
      "6660/6680 [============================>.] - ETA: 0s - loss: 8.2962 - acc: 0.0104\n",
      "Epoch 00020: val_loss did not improve\n",
      "6680/6680 [==============================] - 37s 6ms/step - loss: 8.2955 - acc: 0.0103 - val_loss: 8.2617 - val_acc: 0.0108\n"
     ]
    },
    {
     "data": {
      "text/plain": [
       "<keras.callbacks.History at 0x7f5478720860>"
      ]
     },
     "execution_count": 108,
     "metadata": {},
     "output_type": "execute_result"
    }
   ],
   "source": [
    "from keras.callbacks import ModelCheckpoint  \n",
    "\n",
    "### TODO: specify the number of epochs that you would like to use to train the model.\n",
    "\n",
    "epochs = 20\n",
    "\n",
    "### Do NOT modify the code below this line.\n",
    "\n",
    "checkpointer = ModelCheckpoint(filepath='saved_models/weights.best.from_scratch1.hdf5', \n",
    "                               verbose=1, save_best_only=True)\n",
    "model.fit(train_tensors, train_targets, \n",
    "          validation_data=(valid_tensors, valid_targets),\n",
    "          epochs=epochs, batch_size=20, callbacks=[checkpointer], verbose=1)"
   ]
  },
  {
   "cell_type": "markdown",
   "metadata": {},
   "source": [
    "### Load the Model with the Best Validation Loss"
   ]
  },
  {
   "cell_type": "code",
   "execution_count": 110,
   "metadata": {},
   "outputs": [],
   "source": [
    "model.load_weights('saved_models/weights.best.from_scratch1.hdf5')"
   ]
  },
  {
   "cell_type": "markdown",
   "metadata": {},
   "source": [
    "### Test the Model\n",
    "\n",
    "Try out your model on the test dataset of dog images.  Ensure that your test accuracy is greater than 1%."
   ]
  },
  {
   "cell_type": "code",
   "execution_count": 111,
   "metadata": {},
   "outputs": [
    {
     "name": "stdout",
     "output_type": "stream",
     "text": [
      "Test accuracy: 1.0766%\n"
     ]
    }
   ],
   "source": [
    "# get index of predicted dog breed for each image in test set\n",
    "dog_breed_predictions = [np.argmax(model.predict(np.expand_dims(tensor, axis=0))) for tensor in test_tensors]\n",
    "\n",
    "# report test accuracy\n",
    "test_accuracy = 100*np.sum(np.array(dog_breed_predictions)==np.argmax(test_targets, axis=1))/len(dog_breed_predictions)\n",
    "print('Test accuracy: %.4f%%' % test_accuracy)"
   ]
  },
  {
   "cell_type": "markdown",
   "metadata": {},
   "source": [
    "---\n",
    "<a id='step4'></a>\n",
    "## Step 4: Use a CNN to Classify Dog Breeds\n",
    "\n",
    "To reduce training time without sacrificing accuracy, we show you how to train a CNN using transfer learning.  In the following step, you will get a chance to use transfer learning to train your own CNN.\n",
    "\n",
    "### Obtain Bottleneck Features"
   ]
  },
  {
   "cell_type": "code",
   "execution_count": 112,
   "metadata": {
    "collapsed": true
   },
   "outputs": [],
   "source": [
    "bottleneck_features = np.load('bottleneck_features/DogVGG16Data.npz')\n",
    "train_VGG16 = bottleneck_features['train']\n",
    "valid_VGG16 = bottleneck_features['valid']\n",
    "test_VGG16 = bottleneck_features['test']"
   ]
  },
  {
   "cell_type": "markdown",
   "metadata": {},
   "source": [
    "### Model Architecture\n",
    "\n",
    "The model uses the the pre-trained VGG-16 model as a fixed feature extractor, where the last convolutional output of VGG-16 is fed as input to our model.  We only add a global average pooling layer and a fully connected layer, where the latter contains one node for each dog category and is equipped with a softmax."
   ]
  },
  {
   "cell_type": "code",
   "execution_count": 113,
   "metadata": {},
   "outputs": [
    {
     "name": "stdout",
     "output_type": "stream",
     "text": [
      "_________________________________________________________________\n",
      "Layer (type)                 Output Shape              Param #   \n",
      "=================================================================\n",
      "global_average_pooling2d_13  (None, 512)               0         \n",
      "_________________________________________________________________\n",
      "dense_13 (Dense)             (None, 133)               68229     \n",
      "=================================================================\n",
      "Total params: 68,229\n",
      "Trainable params: 68,229\n",
      "Non-trainable params: 0\n",
      "_________________________________________________________________\n"
     ]
    }
   ],
   "source": [
    "VGG16_model = Sequential()\n",
    "VGG16_model.add(GlobalAveragePooling2D(input_shape=train_VGG16.shape[1:]))\n",
    "VGG16_model.add(Dense(133, activation='softmax'))\n",
    "\n",
    "VGG16_model.summary()"
   ]
  },
  {
   "cell_type": "markdown",
   "metadata": {},
   "source": [
    "### Compile the Model"
   ]
  },
  {
   "cell_type": "code",
   "execution_count": 114,
   "metadata": {
    "collapsed": true
   },
   "outputs": [],
   "source": [
    "VGG16_model.compile(loss='categorical_crossentropy', optimizer='rmsprop', metrics=['accuracy'])"
   ]
  },
  {
   "cell_type": "code",
   "execution_count": 115,
   "metadata": {
    "scrolled": true
   },
   "outputs": [
    {
     "name": "stdout",
     "output_type": "stream",
     "text": [
      "Train on 6680 samples, validate on 835 samples\n",
      "Epoch 1/20\n",
      "6560/6680 [============================>.] - ETA: 0s - loss: 11.8092 - acc: 0.1255\n",
      "Epoch 00001: val_loss improved from inf to 9.79130, saving model to saved_models/weights.best.VGG16.hdf5\n",
      "6680/6680 [==============================] - 5s 780us/step - loss: 11.7722 - acc: 0.1269 - val_loss: 9.7913 - val_acc: 0.2251\n",
      "Epoch 2/20\n",
      "6620/6680 [============================>.] - ETA: 0s - loss: 8.6628 - acc: 0.3341\n",
      "Epoch 00002: val_loss improved from 9.79130 to 8.54507, saving model to saved_models/weights.best.VGG16.hdf5\n",
      "6680/6680 [==============================] - 2s 266us/step - loss: 8.6691 - acc: 0.3341 - val_loss: 8.5451 - val_acc: 0.3269\n",
      "Epoch 3/20\n",
      "6620/6680 [============================>.] - ETA: 0s - loss: 7.7803 - acc: 0.4282\n",
      "Epoch 00003: val_loss improved from 8.54507 to 8.14282, saving model to saved_models/weights.best.VGG16.hdf5\n",
      "6680/6680 [==============================] - 2s 265us/step - loss: 7.7826 - acc: 0.4280 - val_loss: 8.1428 - val_acc: 0.3904\n",
      "Epoch 4/20\n",
      "6600/6680 [============================>.] - ETA: 0s - loss: 7.4307 - acc: 0.4785\n",
      "Epoch 00004: val_loss improved from 8.14282 to 8.03150, saving model to saved_models/weights.best.VGG16.hdf5\n",
      "6680/6680 [==============================] - 2s 264us/step - loss: 7.4460 - acc: 0.4768 - val_loss: 8.0315 - val_acc: 0.3928\n",
      "Epoch 5/20\n",
      "6600/6680 [============================>.] - ETA: 0s - loss: 7.2471 - acc: 0.5021\n",
      "Epoch 00005: val_loss improved from 8.03150 to 7.94053, saving model to saved_models/weights.best.VGG16.hdf5\n",
      "6680/6680 [==============================] - 2s 266us/step - loss: 7.2450 - acc: 0.5022 - val_loss: 7.9405 - val_acc: 0.3976\n",
      "Epoch 6/20\n",
      "6620/6680 [============================>.] - ETA: 0s - loss: 7.1387 - acc: 0.5187\n",
      "Epoch 00006: val_loss improved from 7.94053 to 7.75147, saving model to saved_models/weights.best.VGG16.hdf5\n",
      "6680/6680 [==============================] - 2s 265us/step - loss: 7.1254 - acc: 0.5193 - val_loss: 7.7515 - val_acc: 0.4192\n",
      "Epoch 7/20\n",
      "6600/6680 [============================>.] - ETA: 0s - loss: 6.9464 - acc: 0.5356\n",
      "Epoch 00007: val_loss improved from 7.75147 to 7.71930, saving model to saved_models/weights.best.VGG16.hdf5\n",
      "6680/6680 [==============================] - 2s 264us/step - loss: 6.9504 - acc: 0.5358 - val_loss: 7.7193 - val_acc: 0.4275\n",
      "Epoch 8/20\n",
      "6620/6680 [============================>.] - ETA: 0s - loss: 6.8662 - acc: 0.5524\n",
      "Epoch 00008: val_loss improved from 7.71930 to 7.71258, saving model to saved_models/weights.best.VGG16.hdf5\n",
      "6680/6680 [==============================] - 2s 266us/step - loss: 6.8695 - acc: 0.5521 - val_loss: 7.7126 - val_acc: 0.4311\n",
      "Epoch 9/20\n",
      "6620/6680 [============================>.] - ETA: 0s - loss: 6.8024 - acc: 0.5563\n",
      "Epoch 00009: val_loss improved from 7.71258 to 7.61874, saving model to saved_models/weights.best.VGG16.hdf5\n",
      "6680/6680 [==============================] - 2s 265us/step - loss: 6.8044 - acc: 0.5563 - val_loss: 7.6187 - val_acc: 0.4371\n",
      "Epoch 10/20\n",
      "6600/6680 [============================>.] - ETA: 0s - loss: 6.7098 - acc: 0.5645\n",
      "Epoch 00010: val_loss did not improve\n",
      "6680/6680 [==============================] - 2s 264us/step - loss: 6.7163 - acc: 0.5639 - val_loss: 7.6327 - val_acc: 0.4263\n",
      "Epoch 11/20\n",
      "6600/6680 [============================>.] - ETA: 0s - loss: 6.6404 - acc: 0.5691\n",
      "Epoch 00011: val_loss improved from 7.61874 to 7.57269, saving model to saved_models/weights.best.VGG16.hdf5\n",
      "6680/6680 [==============================] - 2s 265us/step - loss: 6.6508 - acc: 0.5684 - val_loss: 7.5727 - val_acc: 0.4431\n",
      "Epoch 12/20\n",
      "6600/6680 [============================>.] - ETA: 0s - loss: 6.6002 - acc: 0.5735\n",
      "Epoch 00012: val_loss improved from 7.57269 to 7.55779, saving model to saved_models/weights.best.VGG16.hdf5\n",
      "6680/6680 [==============================] - 2s 265us/step - loss: 6.5962 - acc: 0.5737 - val_loss: 7.5578 - val_acc: 0.4431\n",
      "Epoch 13/20\n",
      "6620/6680 [============================>.] - ETA: 0s - loss: 6.4000 - acc: 0.5789\n",
      "Epoch 00013: val_loss improved from 7.55779 to 7.26807, saving model to saved_models/weights.best.VGG16.hdf5\n",
      "6680/6680 [==============================] - 2s 266us/step - loss: 6.4118 - acc: 0.5783 - val_loss: 7.2681 - val_acc: 0.4563\n",
      "Epoch 14/20\n",
      "6620/6680 [============================>.] - ETA: 0s - loss: 6.1339 - acc: 0.5956\n",
      "Epoch 00014: val_loss improved from 7.26807 to 7.09817, saving model to saved_models/weights.best.VGG16.hdf5\n",
      "6680/6680 [==============================] - 2s 265us/step - loss: 6.1394 - acc: 0.5954 - val_loss: 7.0982 - val_acc: 0.4575\n",
      "Epoch 15/20\n",
      "6620/6680 [============================>.] - ETA: 0s - loss: 5.8627 - acc: 0.6130\n",
      "Epoch 00015: val_loss improved from 7.09817 to 6.86278, saving model to saved_models/weights.best.VGG16.hdf5\n",
      "6680/6680 [==============================] - 2s 265us/step - loss: 5.8571 - acc: 0.6133 - val_loss: 6.8628 - val_acc: 0.4731\n",
      "Epoch 16/20\n",
      "6620/6680 [============================>.] - ETA: 0s - loss: 5.6695 - acc: 0.6261\n",
      "Epoch 00016: val_loss improved from 6.86278 to 6.65199, saving model to saved_models/weights.best.VGG16.hdf5\n",
      "6680/6680 [==============================] - 2s 265us/step - loss: 5.6541 - acc: 0.6269 - val_loss: 6.6520 - val_acc: 0.4826\n",
      "Epoch 17/20\n",
      "6620/6680 [============================>.] - ETA: 0s - loss: 5.3869 - acc: 0.6412\n",
      "Epoch 00017: val_loss improved from 6.65199 to 6.51685, saving model to saved_models/weights.best.VGG16.hdf5\n",
      "6680/6680 [==============================] - 2s 265us/step - loss: 5.3916 - acc: 0.6409 - val_loss: 6.5168 - val_acc: 0.4970\n",
      "Epoch 18/20\n",
      "6620/6680 [============================>.] - ETA: 0s - loss: 5.2240 - acc: 0.6568\n",
      "Epoch 00018: val_loss improved from 6.51685 to 6.35158, saving model to saved_models/weights.best.VGG16.hdf5\n",
      "6680/6680 [==============================] - 2s 265us/step - loss: 5.2360 - acc: 0.6560 - val_loss: 6.3516 - val_acc: 0.5054\n",
      "Epoch 19/20\n",
      "6620/6680 [============================>.] - ETA: 0s - loss: 5.1542 - acc: 0.6637\n",
      "Epoch 00019: val_loss improved from 6.35158 to 6.32105, saving model to saved_models/weights.best.VGG16.hdf5\n",
      "6680/6680 [==============================] - 2s 265us/step - loss: 5.1509 - acc: 0.6638 - val_loss: 6.3211 - val_acc: 0.5126\n",
      "Epoch 20/20\n",
      "6600/6680 [============================>.] - ETA: 0s - loss: 5.0829 - acc: 0.6682\n",
      "Epoch 00020: val_loss improved from 6.32105 to 6.23666, saving model to saved_models/weights.best.VGG16.hdf5\n",
      "6680/6680 [==============================] - 2s 265us/step - loss: 5.0740 - acc: 0.6686 - val_loss: 6.2367 - val_acc: 0.5138\n"
     ]
    },
    {
     "data": {
      "text/plain": [
       "<keras.callbacks.History at 0x7f547866b470>"
      ]
     },
     "execution_count": 115,
     "metadata": {},
     "output_type": "execute_result"
    }
   ],
   "source": [
    "checkpointer = ModelCheckpoint(filepath='saved_models/weights.best.VGG16.hdf5', \n",
    "                               verbose=1, save_best_only=True)\n",
    "\n",
    "VGG16_model.fit(train_VGG16, train_targets, \n",
    "          validation_data=(valid_VGG16, valid_targets),\n",
    "          epochs=20, batch_size=20, callbacks=[checkpointer], verbose=1)"
   ]
  },
  {
   "cell_type": "markdown",
   "metadata": {},
   "source": [
    "### Train the Model"
   ]
  },
  {
   "cell_type": "markdown",
   "metadata": {},
   "source": [
    "### Load the Model with the Best Validation Loss"
   ]
  },
  {
   "cell_type": "code",
   "execution_count": 116,
   "metadata": {
    "collapsed": true
   },
   "outputs": [],
   "source": [
    "VGG16_model.load_weights('saved_models/weights.best.VGG16.hdf5')"
   ]
  },
  {
   "cell_type": "markdown",
   "metadata": {},
   "source": [
    "### Test the Model\n",
    "\n",
    "Now, we can use the CNN to test how well it identifies breed within our test dataset of dog images.  We print the test accuracy below."
   ]
  },
  {
   "cell_type": "code",
   "execution_count": 117,
   "metadata": {},
   "outputs": [
    {
     "name": "stdout",
     "output_type": "stream",
     "text": [
      "Test accuracy: 52.0335%\n"
     ]
    }
   ],
   "source": [
    "# get index of predicted dog breed for each image in test set\n",
    "VGG16_predictions = [np.argmax(VGG16_model.predict(np.expand_dims(feature, axis=0))) for feature in test_VGG16]\n",
    "\n",
    "# report test accuracy\n",
    "test_accuracy = 100*np.sum(np.array(VGG16_predictions)==np.argmax(test_targets, axis=1))/len(VGG16_predictions)\n",
    "print('Test accuracy: %.4f%%' % test_accuracy)"
   ]
  },
  {
   "cell_type": "markdown",
   "metadata": {},
   "source": [
    "### Predict Dog Breed with the Model"
   ]
  },
  {
   "cell_type": "code",
   "execution_count": 118,
   "metadata": {
    "collapsed": true
   },
   "outputs": [],
   "source": [
    "from extract_bottleneck_features import *\n",
    "\n",
    "def VGG16_predict_breed(img_path):\n",
    "    # extract bottleneck features\n",
    "    bottleneck_feature = extract_VGG16(path_to_tensor(img_path))\n",
    "    # obtain predicted vector\n",
    "    predicted_vector = VGG16_model.predict(bottleneck_feature)\n",
    "    # return dog breed that is predicted by the model\n",
    "    return dog_names[np.argmax(predicted_vector)]"
   ]
  },
  {
   "cell_type": "markdown",
   "metadata": {},
   "source": [
    "---\n",
    "<a id='step5'></a>\n",
    "## Step 5: Create a CNN to Classify Dog Breeds (using Transfer Learning)\n",
    "\n",
    "You will now use transfer learning to create a CNN that can identify dog breed from images.  Your CNN must attain at least 60% accuracy on the test set.\n",
    "\n",
    "In Step 4, we used transfer learning to create a CNN using VGG-16 bottleneck features.  In this section, you must use the bottleneck features from a different pre-trained model.  To make things easier for you, we have pre-computed the features for all of the networks that are currently available in Keras:\n",
    "- [VGG-19](https://s3-us-west-1.amazonaws.com/udacity-aind/dog-project/DogVGG19Data.npz) bottleneck features\n",
    "- [ResNet-50](https://s3-us-west-1.amazonaws.com/udacity-aind/dog-project/DogResnet50Data.npz) bottleneck features\n",
    "- [Inception](https://s3-us-west-1.amazonaws.com/udacity-aind/dog-project/DogInceptionV3Data.npz) bottleneck features\n",
    "- [Xception](https://s3-us-west-1.amazonaws.com/udacity-aind/dog-project/DogXceptionData.npz) bottleneck features\n",
    "\n",
    "The files are encoded as such:\n",
    "\n",
    "    Dog{network}Data.npz\n",
    "    \n",
    "where `{network}`, in the above filename, can be one of `VGG19`, `Resnet50`, `InceptionV3`, or `Xception`.  Pick one of the above architectures, download the corresponding bottleneck features, and store the downloaded file in the `bottleneck_features/` folder in the repository.\n",
    "\n",
    "### (IMPLEMENTATION) Obtain Bottleneck Features\n",
    "\n",
    "In the code block below, extract the bottleneck features corresponding to the train, test, and validation sets by running the following:\n",
    "\n",
    "    bottleneck_features = np.load('bottleneck_features/Dog{network}Data.npz')\n",
    "    train_{network} = bottleneck_features['train']\n",
    "    valid_{network} = bottleneck_features['valid']\n",
    "    test_{network} = bottleneck_features['test']"
   ]
  },
  {
   "cell_type": "code",
   "execution_count": 119,
   "metadata": {
    "collapsed": true
   },
   "outputs": [],
   "source": [
    "### TODO: Obtain bottleneck features from another pre-trained CNN.\n",
    "bottleneck_features = np.load('bottleneck_features/DogInceptionV3Data.npz')\n",
    "train_Inception = bottleneck_features['train']\n",
    "valid_Inception = bottleneck_features['valid']\n",
    "test_Inception = bottleneck_features['test']"
   ]
  },
  {
   "cell_type": "markdown",
   "metadata": {},
   "source": [
    "### (IMPLEMENTATION) Model Architecture\n",
    "\n",
    "Create a CNN to classify dog breed.  At the end of your code cell block, summarize the layers of your model by executing the line:\n",
    "    \n",
    "        <your model's name>.summary()\n",
    "   \n",
    "__Question 5:__ Outline the steps you took to get to your final CNN architecture and your reasoning at each step.  Describe why you think the architecture is suitable for the current problem.\n",
    "\n",
    "__Answer:__ \n",
    "To avoid the bottleneck of feature characterization, high-dimensional features are easier to deal with, and training is faster and easier to converge on higher-dimensional features.\n",
    "Low dimensional embedding space for spatial aggregation, the loss is not very large.The explanation is that there is a strong correlation between adjacent nerve cells and information is redundant.\n",
    "The depth and width of a balanced network.The width and depth of the application can be balanced when applied to a distributed network computational budget.\n"
   ]
  },
  {
   "cell_type": "code",
   "execution_count": 120,
   "metadata": {},
   "outputs": [
    {
     "name": "stdout",
     "output_type": "stream",
     "text": [
      "_________________________________________________________________\n",
      "Layer (type)                 Output Shape              Param #   \n",
      "=================================================================\n",
      "global_average_pooling2d_14  (None, 2048)              0         \n",
      "_________________________________________________________________\n",
      "dense_14 (Dense)             (None, 133)               272517    \n",
      "=================================================================\n",
      "Total params: 272,517\n",
      "Trainable params: 272,517\n",
      "Non-trainable params: 0\n",
      "_________________________________________________________________\n"
     ]
    }
   ],
   "source": [
    "Inception_model = Sequential()\n",
    "Inception_model.add(GlobalAveragePooling2D(input_shape=train_Inception.shape[1:]))\n",
    "Inception_model.add(Dense(133, activation='softmax'))\n",
    "\n",
    "Inception_model.summary()"
   ]
  },
  {
   "cell_type": "markdown",
   "metadata": {},
   "source": [
    "### (IMPLEMENTATION) Compile the Model"
   ]
  },
  {
   "cell_type": "code",
   "execution_count": 121,
   "metadata": {
    "collapsed": true
   },
   "outputs": [],
   "source": [
    "Inception_model.compile(loss='categorical_crossentropy', optimizer='rmsprop', metrics=['accuracy'])"
   ]
  },
  {
   "cell_type": "markdown",
   "metadata": {},
   "source": [
    "### (IMPLEMENTATION) Train the Model\n",
    "\n",
    "Train your model in the code cell below.  Use model checkpointing to save the model that attains the best validation loss.  \n",
    "\n",
    "You are welcome to [augment the training data](https://blog.keras.io/building-powerful-image-classification-models-using-very-little-data.html), but this is not a requirement. "
   ]
  },
  {
   "cell_type": "code",
   "execution_count": 122,
   "metadata": {
    "scrolled": true
   },
   "outputs": [
    {
     "name": "stdout",
     "output_type": "stream",
     "text": [
      "Train on 6680 samples, validate on 835 samples\n",
      "Epoch 1/20\n",
      "6580/6680 [============================>.] - ETA: 0s - loss: 1.1601 - acc: 0.7044\n",
      "Epoch 00001: val_loss improved from inf to 0.66487, saving model to saved_models/weights.best.Inception.hdf5\n",
      "6680/6680 [==============================] - 5s 820us/step - loss: 1.1515 - acc: 0.7060 - val_loss: 0.6649 - val_acc: 0.8144\n",
      "Epoch 2/20\n",
      "6580/6680 [============================>.] - ETA: 0s - loss: 0.4740 - acc: 0.8556\n",
      "Epoch 00002: val_loss improved from 0.66487 to 0.66058, saving model to saved_models/weights.best.Inception.hdf5\n",
      "6680/6680 [==============================] - 2s 358us/step - loss: 0.4728 - acc: 0.8558 - val_loss: 0.6606 - val_acc: 0.8132\n",
      "Epoch 3/20\n",
      "6580/6680 [============================>.] - ETA: 0s - loss: 0.3643 - acc: 0.8878\n",
      "Epoch 00003: val_loss did not improve\n",
      "6680/6680 [==============================] - 2s 357us/step - loss: 0.3656 - acc: 0.8873 - val_loss: 0.6943 - val_acc: 0.8275\n",
      "Epoch 4/20\n",
      "6560/6680 [============================>.] - ETA: 0s - loss: 0.2846 - acc: 0.9108\n",
      "Epoch 00004: val_loss did not improve\n",
      "6680/6680 [==============================] - 2s 359us/step - loss: 0.2847 - acc: 0.9109 - val_loss: 0.7008 - val_acc: 0.8407\n",
      "Epoch 5/20\n",
      "6580/6680 [============================>.] - ETA: 0s - loss: 0.2352 - acc: 0.9234\n",
      "Epoch 00005: val_loss did not improve\n",
      "6680/6680 [==============================] - 2s 357us/step - loss: 0.2368 - acc: 0.9231 - val_loss: 0.7002 - val_acc: 0.8347\n",
      "Epoch 6/20\n",
      "6580/6680 [============================>.] - ETA: 0s - loss: 0.2066 - acc: 0.9392\n",
      "Epoch 00006: val_loss did not improve\n",
      "6680/6680 [==============================] - 2s 357us/step - loss: 0.2053 - acc: 0.9397 - val_loss: 0.7278 - val_acc: 0.8443\n",
      "Epoch 7/20\n",
      "6580/6680 [============================>.] - ETA: 0s - loss: 0.1729 - acc: 0.9492\n",
      "Epoch 00007: val_loss did not improve\n",
      "6680/6680 [==============================] - 2s 356us/step - loss: 0.1712 - acc: 0.9499 - val_loss: 0.7161 - val_acc: 0.8503\n",
      "Epoch 8/20\n",
      "6580/6680 [============================>.] - ETA: 0s - loss: 0.1468 - acc: 0.9538\n",
      "Epoch 00008: val_loss did not improve\n",
      "6680/6680 [==============================] - 2s 357us/step - loss: 0.1481 - acc: 0.9533 - val_loss: 0.7545 - val_acc: 0.8503\n",
      "Epoch 9/20\n",
      "6580/6680 [============================>.] - ETA: 0s - loss: 0.1293 - acc: 0.9590\n",
      "Epoch 00009: val_loss did not improve\n",
      "6680/6680 [==============================] - 2s 356us/step - loss: 0.1285 - acc: 0.9593 - val_loss: 0.7300 - val_acc: 0.8563\n",
      "Epoch 10/20\n",
      "6580/6680 [============================>.] - ETA: 0s - loss: 0.1090 - acc: 0.9658\n",
      "Epoch 00010: val_loss did not improve\n",
      "6680/6680 [==============================] - 2s 356us/step - loss: 0.1086 - acc: 0.9659 - val_loss: 0.7985 - val_acc: 0.8551\n",
      "Epoch 11/20\n",
      "6580/6680 [============================>.] - ETA: 0s - loss: 0.0916 - acc: 0.9710\n",
      "Epoch 00011: val_loss did not improve\n",
      "6680/6680 [==============================] - 2s 357us/step - loss: 0.0936 - acc: 0.9708 - val_loss: 0.8224 - val_acc: 0.8491\n",
      "Epoch 12/20\n",
      "6580/6680 [============================>.] - ETA: 0s - loss: 0.0793 - acc: 0.9760\n",
      "Epoch 00012: val_loss did not improve\n",
      "6680/6680 [==============================] - 2s 357us/step - loss: 0.0796 - acc: 0.9757 - val_loss: 0.8452 - val_acc: 0.8383\n",
      "Epoch 13/20\n",
      "6580/6680 [============================>.] - ETA: 0s - loss: 0.0688 - acc: 0.9778\n",
      "Epoch 00013: val_loss did not improve\n",
      "6680/6680 [==============================] - 2s 356us/step - loss: 0.0682 - acc: 0.9780 - val_loss: 0.8745 - val_acc: 0.8395\n",
      "Epoch 14/20\n",
      "6580/6680 [============================>.] - ETA: 0s - loss: 0.0606 - acc: 0.9790\n",
      "Epoch 00014: val_loss did not improve\n",
      "6680/6680 [==============================] - 2s 357us/step - loss: 0.0615 - acc: 0.9787 - val_loss: 0.8105 - val_acc: 0.8527\n",
      "Epoch 15/20\n",
      "6580/6680 [============================>.] - ETA: 0s - loss: 0.0557 - acc: 0.9847\n",
      "Epoch 00015: val_loss did not improve\n",
      "6680/6680 [==============================] - 2s 356us/step - loss: 0.0555 - acc: 0.9846 - val_loss: 0.8355 - val_acc: 0.8443\n",
      "Epoch 16/20\n",
      "6580/6680 [============================>.] - ETA: 0s - loss: 0.0457 - acc: 0.9865\n",
      "Epoch 00016: val_loss did not improve\n",
      "6680/6680 [==============================] - 2s 357us/step - loss: 0.0469 - acc: 0.9864 - val_loss: 0.8689 - val_acc: 0.8551\n",
      "Epoch 17/20\n",
      "6580/6680 [============================>.] - ETA: 0s - loss: 0.0389 - acc: 0.9884\n",
      "Epoch 00017: val_loss did not improve\n",
      "6680/6680 [==============================] - 2s 356us/step - loss: 0.0396 - acc: 0.9882 - val_loss: 0.9443 - val_acc: 0.8467\n",
      "Epoch 18/20\n",
      "6560/6680 [============================>.] - ETA: 0s - loss: 0.0355 - acc: 0.9883\n",
      "Epoch 00018: val_loss did not improve\n",
      "6680/6680 [==============================] - 2s 358us/step - loss: 0.0360 - acc: 0.9880 - val_loss: 0.8986 - val_acc: 0.8467\n",
      "Epoch 19/20\n",
      "6580/6680 [============================>.] - ETA: 0s - loss: 0.0332 - acc: 0.9884\n",
      "Epoch 00019: val_loss did not improve\n",
      "6680/6680 [==============================] - 2s 357us/step - loss: 0.0329 - acc: 0.9886 - val_loss: 0.9941 - val_acc: 0.8455\n",
      "Epoch 20/20\n",
      "6580/6680 [============================>.] - ETA: 0s - loss: 0.0295 - acc: 0.9900\n",
      "Epoch 00020: val_loss did not improve\n",
      "6680/6680 [==============================] - 2s 357us/step - loss: 0.0292 - acc: 0.9901 - val_loss: 0.9289 - val_acc: 0.8599\n"
     ]
    },
    {
     "data": {
      "text/plain": [
       "<keras.callbacks.History at 0x7f54784351d0>"
      ]
     },
     "execution_count": 122,
     "metadata": {},
     "output_type": "execute_result"
    }
   ],
   "source": [
    "### TODO: Train the model.\n",
    "checkpointer = ModelCheckpoint(filepath='saved_models/weights.best.Inception.hdf5', \n",
    "                               verbose=1, save_best_only=True)\n",
    "\n",
    "Inception_model.fit(train_Inception, train_targets, \n",
    "          validation_data=(valid_Inception, valid_targets),\n",
    "          epochs=20, batch_size=20, callbacks=[checkpointer], verbose=1)"
   ]
  },
  {
   "cell_type": "markdown",
   "metadata": {},
   "source": [
    "### (IMPLEMENTATION) Load the Model with the Best Validation Loss"
   ]
  },
  {
   "cell_type": "code",
   "execution_count": 123,
   "metadata": {
    "collapsed": true
   },
   "outputs": [],
   "source": [
    "### TODO: Load the model weights with the best validation loss.\n",
    "Inception_model.load_weights('saved_models/weights.best.Inception.hdf5')"
   ]
  },
  {
   "cell_type": "markdown",
   "metadata": {},
   "source": [
    "### (IMPLEMENTATION) Test the Model\n",
    "\n",
    "Try out your model on the test dataset of dog images. Ensure that your test accuracy is greater than 60%."
   ]
  },
  {
   "cell_type": "code",
   "execution_count": 124,
   "metadata": {},
   "outputs": [
    {
     "name": "stdout",
     "output_type": "stream",
     "text": [
      "Test accuracy: 78.3493%\n"
     ]
    }
   ],
   "source": [
    "### TODO: Calculate classification accuracy on the test dataset.\n",
    "Inception_predictions = [np.argmax(Inception_model.predict(np.expand_dims(feature, axis=0))) for feature in test_Inception]\n",
    "# Inception\n",
    "# report test accuracy\n",
    "test_accuracy = 100*np.sum(np.array(Inception_predictions)==np.argmax(test_targets, axis=1))/len(Inception_predictions)\n",
    "print('Test accuracy: %.4f%%' % test_accuracy)"
   ]
  },
  {
   "cell_type": "markdown",
   "metadata": {},
   "source": [
    "### (IMPLEMENTATION) Predict Dog Breed with the Model\n",
    "\n",
    "Write a function that takes an image path as input and returns the dog breed (`Affenpinscher`, `Afghan_hound`, etc) that is predicted by your model.  \n",
    "\n",
    "Similar to the analogous function in Step 5, your function should have three steps:\n",
    "1. Extract the bottleneck features corresponding to the chosen CNN model.\n",
    "2. Supply the bottleneck features as input to the model to return the predicted vector.  Note that the argmax of this prediction vector gives the index of the predicted dog breed.\n",
    "3. Use the `dog_names` array defined in Step 0 of this notebook to return the corresponding breed.\n",
    "\n",
    "The functions to extract the bottleneck features can be found in `extract_bottleneck_features.py`, and they have been imported in an earlier code cell.  To obtain the bottleneck features corresponding to your chosen CNN architecture, you need to use the function\n",
    "\n",
    "    extract_{network}\n",
    "    \n",
    "where `{network}`, in the above filename, should be one of `VGG19`, `Resnet50`, `InceptionV3`, or `Xception`."
   ]
  },
  {
   "cell_type": "code",
   "execution_count": 125,
   "metadata": {
    "collapsed": true
   },
   "outputs": [],
   "source": [
    "### TODO: Write a function that takes a path to an image as input\n",
    "### and returns the dog breed that is predicted by the model.\n",
    "from extract_bottleneck_features import extract_InceptionV3\n",
    "\n",
    "def Inception_predict_breed(img_path):\n",
    "    # extract bottleneck features\n",
    "    bottleneck_feature = extract_InceptionV3(path_to_tensor(img_path))\n",
    "    # obtain predicted vector\n",
    "    predicted_vector = Inception_model.predict(bottleneck_feature)\n",
    "    # return dog breed that is predicted by the model\n",
    "    return dog_names[np.argmax(predicted_vector)]"
   ]
  },
  {
   "cell_type": "markdown",
   "metadata": {},
   "source": [
    "---\n",
    "<a id='step6'></a>\n",
    "## Step 6: Write your Algorithm\n",
    "\n",
    "Write an algorithm that accepts a file path to an image and first determines whether the image contains a human, dog, or neither.  Then,\n",
    "- if a __dog__ is detected in the image, return the predicted breed.\n",
    "- if a __human__ is detected in the image, return the resembling dog breed.\n",
    "- if __neither__ is detected in the image, provide output that indicates an error.\n",
    "\n",
    "You are welcome to write your own functions for detecting humans and dogs in images, but feel free to use the `face_detector` and `dog_detector` functions developed above.  You are __required__ to use your CNN from Step 5 to predict dog breed.  \n",
    "\n",
    "Some sample output for our algorithm is provided below, but feel free to design your own user experience!\n",
    "\n",
    "![Sample Human Output](images/sample_human_output.png)\n",
    "\n",
    "\n",
    "### (IMPLEMENTATION) Write your Algorithm"
   ]
  },
  {
   "cell_type": "code",
   "execution_count": 126,
   "metadata": {
    "collapsed": true
   },
   "outputs": [],
   "source": [
    "def predict(image_path):\n",
    "    cr = None\n",
    "    mess = None\n",
    "    if face_detector(image_path):\n",
    "        cr = 'human'\n",
    "        mess ='predict human like'\n",
    "    if dog_detector(image_path):\n",
    "        cr = 'dog'\n",
    "        mess = 'predict dog like'\n",
    "    pi = Inception_predict_breed(image_path)\n",
    "    return \"Hello, {}! {} ... {}\".format(cr, mess, pi)"
   ]
  },
  {
   "cell_type": "markdown",
   "metadata": {},
   "source": [
    "---\n",
    "<a id='step7'></a>\n",
    "## Step 7: Test Your Algorithm\n",
    "\n",
    "In this section, you will take your new algorithm for a spin!  What kind of dog does the algorithm think that __you__ look like?  If you have a dog, does it predict your dog's breed accurately?  If you have a cat, does it mistakenly think that your cat is a dog?\n",
    "\n",
    "### (IMPLEMENTATION) Test Your Algorithm on Sample Images!\n",
    "\n",
    "Test your algorithm at least six images on your computer.  Feel free to use any images you like.  Use at least two human and two dog images.  \n",
    "\n",
    "__Question 6:__ Is the output better than you expected :) ?  Or worse :( ?  Provide at least three possible points of improvement for your algorithm.\n",
    "\n",
    "__Answer:__ predict all right,use image rollovers、logarithmic transformation、gray stretch、piecewise linear transformation、 histogram equalization to imporvement algorithm."
   ]
  },
  {
   "cell_type": "code",
   "execution_count": 127,
   "metadata": {},
   "outputs": [
    {
     "name": "stdout",
     "output_type": "stream",
     "text": [
      "Hello, dog! predict dog like ... Brittany\n",
      "Hello, human! predict human like ... Anatolian_shepherd_dog\n",
      "Hello, None! None ... Canaan_dog\n",
      "Hello, dog! predict dog like ... Labrador_retriever\n",
      "Hello, dog! predict dog like ... Welsh_springer_spaniel\n",
      "Hello, dog! predict dog like ... Curly-coated_retriever\n"
     ]
    }
   ],
   "source": [
    "## TODO: Execute your algorithm from Step 6 on\n",
    "## at least 6 images on your computer.\n",
    "## Feel free to use as many code cells as needed.\n",
    "print(predict(\"./images/Brittany_02625.jpg\"))\n",
    "print(predict(\"./images/sample_human_output.png\"))\n",
    "print(predict(\"./images/sample_cnn.png\"))\n",
    "print(predict(\"./images/Labrador_retriever_06449.jpg\"))\n",
    "print(predict(\"./images/Welsh_springer_spaniel_08203.jpg\"))\n",
    "print(predict(\"./images/Curly-coated_retriever_03896.jpg\"))"
   ]
  },
  {
   "cell_type": "code",
   "execution_count": null,
   "metadata": {
    "collapsed": true
   },
   "outputs": [],
   "source": []
  }
 ],
 "metadata": {
  "anaconda-cloud": {},
  "kernelspec": {
   "display_name": "Python 3",
   "language": "python",
   "name": "python3"
  },
  "language_info": {
   "codemirror_mode": {
    "name": "ipython",
    "version": 3
   },
   "file_extension": ".py",
   "mimetype": "text/x-python",
   "name": "python",
   "nbconvert_exporter": "python",
   "pygments_lexer": "ipython3",
   "version": "3.6.1"
  }
 },
 "nbformat": 4,
 "nbformat_minor": 1
}
